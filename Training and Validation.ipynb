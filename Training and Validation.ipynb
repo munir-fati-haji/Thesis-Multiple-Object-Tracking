{
  "cells": [
    {
      "cell_type": "markdown",
      "metadata": {
        "id": "XHEMefpDZVgt"
      },
      "source": [
        "Connect google drive\n",
        "\n"
      ]
    },
    {
      "cell_type": "code",
      "execution_count": 1,
      "metadata": {
        "colab": {
          "base_uri": "https://localhost:8080/"
        },
        "id": "4iBbHHAzZUEw",
        "outputId": "6c3416d1-80a0-4e45-cc19-99ed4dcbc6d2"
      },
      "outputs": [
        {
          "output_type": "stream",
          "name": "stdout",
          "text": [
            "Mounted at /content/drive\n"
          ]
        }
      ],
      "source": [
        "from google.colab import drive\n",
        "drive.mount(\"/content/drive\")"
      ]
    },
    {
      "cell_type": "markdown",
      "metadata": {
        "id": "awNWSwE3h2bj"
      },
      "source": [
        "For clearing outputs import clear"
      ]
    },
    {
      "cell_type": "code",
      "execution_count": 2,
      "metadata": {
        "id": "rvy3df9thS7p"
      },
      "outputs": [],
      "source": [
        "from google.colab.output import clear"
      ]
    },
    {
      "cell_type": "markdown",
      "source": [
        "# Training of the Detection model (YOLOv8) "
      ],
      "metadata": {
        "id": "1zJmdBVEQWU9"
      }
    },
    {
      "cell_type": "markdown",
      "metadata": {
        "id": "oy76YNeehhk3"
      },
      "source": [
        "Install YOLO from Ultralitics using pip method"
      ]
    },
    {
      "cell_type": "code",
      "execution_count": 3,
      "metadata": {
        "colab": {
          "base_uri": "https://localhost:8080/"
        },
        "id": "lyfT-WanhhAD",
        "outputId": "cd332ecf-5c99-4d28-e1d0-80d430eed706"
      },
      "outputs": [
        {
          "output_type": "stream",
          "name": "stderr",
          "text": [
            "Ultralytics YOLOv8.0.97 🚀 Python-3.10.11 torch-2.0.0+cu118 CUDA:0 (Tesla T4, 15102MiB)\n",
            "Setup complete ✅ (4 CPUs, 25.5 GB RAM, 23.4/166.8 GB disk)\n"
          ]
        }
      ],
      "source": [
        "!pip install ultralytics\n",
        "\n",
        "clear()\n",
        "\n",
        "import ultralytics\n",
        "ultralytics.checks()"
      ]
    },
    {
      "cell_type": "markdown",
      "metadata": {
        "id": "0-1mthSDi4eO"
      },
      "source": [
        "Import YOLO\n"
      ]
    },
    {
      "cell_type": "code",
      "execution_count": 14,
      "metadata": {
        "id": "hgnwUXovi3rf"
      },
      "outputs": [],
      "source": [
        "from ultralytics import YOLO"
      ]
    },
    {
      "cell_type": "markdown",
      "metadata": {
        "id": "oeFOwPVwa308"
      },
      "source": [
        "## Training YOLOv8n using our dataset"
      ]
    },
    {
      "cell_type": "markdown",
      "source": [
        "Download and unzip the data that is processed according to the YOLOv8 requirement from the google drive\n"
      ],
      "metadata": {
        "id": "ZmqB3ytlIDAw"
      }
    },
    {
      "cell_type": "code",
      "execution_count": 5,
      "metadata": {
        "id": "z23-6fcDtAto"
      },
      "outputs": [],
      "source": [
        "!mkdir /content/data"
      ]
    },
    {
      "cell_type": "code",
      "source": [
        "src = \"/content/drive/MyDrive/'Dataset Final'/DETRAC.zip\""
      ],
      "metadata": {
        "id": "dBQSAdL4DASh"
      },
      "execution_count": 8,
      "outputs": []
    },
    {
      "cell_type": "code",
      "execution_count": 9,
      "metadata": {
        "id": "AJh9hKMLszkj"
      },
      "outputs": [],
      "source": [
        "!unzip -q $src -d data/"
      ]
    },
    {
      "cell_type": "markdown",
      "metadata": {
        "id": "5vpcMoyqjCAi"
      },
      "source": [
        "Check if GPU is available"
      ]
    },
    {
      "cell_type": "code",
      "execution_count": 4,
      "metadata": {
        "colab": {
          "base_uri": "https://localhost:8080/"
        },
        "id": "KsI0dRcPoe6D",
        "outputId": "fa8adff7-0924-4975-9e50-54ea6a7890bf"
      },
      "outputs": [
        {
          "output_type": "stream",
          "name": "stdout",
          "text": [
            "Tue May  9 20:57:01 2023       \n",
            "+-----------------------------------------------------------------------------+\n",
            "| NVIDIA-SMI 525.85.12    Driver Version: 525.85.12    CUDA Version: 12.0     |\n",
            "|-------------------------------+----------------------+----------------------+\n",
            "| GPU  Name        Persistence-M| Bus-Id        Disp.A | Volatile Uncorr. ECC |\n",
            "| Fan  Temp  Perf  Pwr:Usage/Cap|         Memory-Usage | GPU-Util  Compute M. |\n",
            "|                               |                      |               MIG M. |\n",
            "|===============================+======================+======================|\n",
            "|   0  Tesla T4            Off  | 00000000:00:04.0 Off |                    0 |\n",
            "| N/A   35C    P8     9W /  70W |      3MiB / 15360MiB |      0%      Default |\n",
            "|                               |                      |                  N/A |\n",
            "+-------------------------------+----------------------+----------------------+\n",
            "                                                                               \n",
            "+-----------------------------------------------------------------------------+\n",
            "| Processes:                                                                  |\n",
            "|  GPU   GI   CI        PID   Type   Process name                  GPU Memory |\n",
            "|        ID   ID                                                   Usage      |\n",
            "|=============================================================================|\n",
            "|  No running processes found                                                 |\n",
            "+-----------------------------------------------------------------------------+\n"
          ]
        }
      ],
      "source": [
        "!nvidia-smi"
      ]
    },
    {
      "cell_type": "markdown",
      "metadata": {
        "id": "6CBOCHahIsWl"
      },
      "source": [
        "Write the data file that is showing our number of classes and path to our processed dataset"
      ]
    },
    {
      "cell_type": "code",
      "execution_count": 11,
      "metadata": {
        "colab": {
          "base_uri": "https://localhost:8080/"
        },
        "id": "GCX1_4VMveF8",
        "outputId": "a6f3136e-6079-4cca-fb07-5e866e8faacb"
      },
      "outputs": [
        {
          "output_type": "stream",
          "name": "stdout",
          "text": [
            "/content/data\n"
          ]
        }
      ],
      "source": [
        "%cd /content/data"
      ]
    },
    {
      "cell_type": "code",
      "execution_count": 12,
      "metadata": {
        "colab": {
          "base_uri": "https://localhost:8080/"
        },
        "id": "c2fkhEOctkrc",
        "outputId": "804ee77e-3bf4-45b7-9ec8-5c9f55725cbd"
      },
      "outputs": [
        {
          "output_type": "stream",
          "name": "stdout",
          "text": [
            "Writing data.yaml\n"
          ]
        }
      ],
      "source": [
        "%%writefile data.yaml\n",
        "names:\n",
        "- vehicle\n",
        "nc: 1\n",
        "test: test/images\n",
        "train: train/images\n",
        "val: valid/images"
      ]
    },
    {
      "cell_type": "markdown",
      "source": [
        "### YOLOv8n Training\n"
      ],
      "metadata": {
        "id": "1oa3tWO6IjCD"
      }
    },
    {
      "cell_type": "markdown",
      "source": [
        "Train based on the YOLOv8n pretrained model this will download the pretrained weights from the ultralytics(which is trained on COCO Dataset)"
      ],
      "metadata": {
        "id": "lMjy4i5AFW1w"
      }
    },
    {
      "cell_type": "code",
      "source": [
        "model = YOLO(\"yolov8n.pt\")  # load a pretrained YOLOv8n model \n",
        " \n",
        "model.train(task=\"detect\", data=\"/content/data/data.yaml\", epochs=25, imgsz=640, batch=80, single_cls=True, optimizer='AdamW')  # train the model"
      ],
      "metadata": {
        "id": "2hpyoPvRFQOY"
      },
      "execution_count": null,
      "outputs": []
    },
    {
      "cell_type": "markdown",
      "source": [
        "Due to time limit and disconnecting time with colab the training of nano model is done in three steps. First the first 3(1-3) epochs then 15(3-18) epoches then 7(18-25) epoches with a total of 25 epochs.\n"
      ],
      "metadata": {
        "id": "D-faZj9EDYA6"
      }
    },
    {
      "cell_type": "code",
      "source": [
        "%cd \"/content/drive/MyDrive/Weights/nano 18 - 25\""
      ],
      "metadata": {
        "colab": {
          "base_uri": "https://localhost:8080/"
        },
        "id": "WWgjlImAmAh-",
        "outputId": "61eccda6-05f8-4d3e-8e28-02660966afff"
      },
      "execution_count": null,
      "outputs": [
        {
          "output_type": "stream",
          "name": "stdout",
          "text": [
            "/content/drive/MyDrive/Weights/nano 18 - 25\n"
          ]
        }
      ]
    },
    {
      "cell_type": "code",
      "execution_count": null,
      "metadata": {
        "colab": {
          "base_uri": "https://localhost:8080/"
        },
        "id": "DaR2-Srb0Nfr",
        "outputId": "d84ffc3b-e850-4109-bd9e-8de371cbf92a"
      },
      "outputs": [
        {
          "output_type": "stream",
          "name": "stderr",
          "text": [
            "Ultralytics YOLOv8.0.91 🚀 Python-3.10.11 torch-2.0.0+cu118 CUDA:0 (Tesla T4, 15102MiB)\n",
            "\u001b[34m\u001b[1myolo/engine/trainer: \u001b[0mtask=detect, mode=train, model=/content/drive/MyDrive/Weights/nano 3 - 18/runs/detect/train3/weights/last.pt, data=/content/data/data.yaml, epochs=7, patience=50, batch=80, imgsz=640, save=True, save_period=-1, cache=False, device=None, workers=8, project=None, name=None, exist_ok=False, pretrained=False, optimizer=AdamW, verbose=True, seed=0, deterministic=True, single_cls=True, rect=False, cos_lr=False, close_mosaic=0, resume=False, amp=True, overlap_mask=True, mask_ratio=4, dropout=0.0, val=True, split=val, save_json=False, save_hybrid=False, conf=None, iou=0.7, max_det=300, half=False, dnn=False, plots=True, source=None, show=False, save_txt=False, save_conf=False, save_crop=False, show_labels=True, show_conf=True, vid_stride=1, line_thickness=3, visualize=False, augment=False, agnostic_nms=False, classes=None, retina_masks=False, boxes=True, format=torchscript, keras=False, optimize=False, int8=False, dynamic=False, simplify=False, opset=None, workspace=4, nms=False, lr0=0.01, lrf=0.01, momentum=0.937, weight_decay=0.0005, warmup_epochs=3.0, warmup_momentum=0.8, warmup_bias_lr=0.1, box=7.5, cls=0.5, dfl=1.5, pose=12.0, kobj=1.0, label_smoothing=0.0, nbs=64, hsv_h=0.015, hsv_s=0.7, hsv_v=0.4, degrees=0.0, translate=0.1, scale=0.5, shear=0.0, perspective=0.0, flipud=0.0, fliplr=0.5, mosaic=1.0, mixup=0.0, copy_paste=0.0, cfg=None, v5loader=False, tracker=botsort.yaml, save_dir=runs/detect/train3\n",
            "\n",
            "                   from  n    params  module                                       arguments                     \n",
            "  0                  -1  1       464  ultralytics.nn.modules.Conv                  [3, 16, 3, 2]                 \n",
            "  1                  -1  1      4672  ultralytics.nn.modules.Conv                  [16, 32, 3, 2]                \n",
            "  2                  -1  1      7360  ultralytics.nn.modules.C2f                   [32, 32, 1, True]             \n",
            "  3                  -1  1     18560  ultralytics.nn.modules.Conv                  [32, 64, 3, 2]                \n",
            "  4                  -1  2     49664  ultralytics.nn.modules.C2f                   [64, 64, 2, True]             \n",
            "  5                  -1  1     73984  ultralytics.nn.modules.Conv                  [64, 128, 3, 2]               \n",
            "  6                  -1  2    197632  ultralytics.nn.modules.C2f                   [128, 128, 2, True]           \n",
            "  7                  -1  1    295424  ultralytics.nn.modules.Conv                  [128, 256, 3, 2]              \n",
            "  8                  -1  1    460288  ultralytics.nn.modules.C2f                   [256, 256, 1, True]           \n",
            "  9                  -1  1    164608  ultralytics.nn.modules.SPPF                  [256, 256, 5]                 \n",
            " 10                  -1  1         0  torch.nn.modules.upsampling.Upsample         [None, 2, 'nearest']          \n",
            " 11             [-1, 6]  1         0  ultralytics.nn.modules.Concat                [1]                           \n",
            " 12                  -1  1    148224  ultralytics.nn.modules.C2f                   [384, 128, 1]                 \n",
            " 13                  -1  1         0  torch.nn.modules.upsampling.Upsample         [None, 2, 'nearest']          \n",
            " 14             [-1, 4]  1         0  ultralytics.nn.modules.Concat                [1]                           \n",
            " 15                  -1  1     37248  ultralytics.nn.modules.C2f                   [192, 64, 1]                  \n",
            " 16                  -1  1     36992  ultralytics.nn.modules.Conv                  [64, 64, 3, 2]                \n",
            " 17            [-1, 12]  1         0  ultralytics.nn.modules.Concat                [1]                           \n",
            " 18                  -1  1    123648  ultralytics.nn.modules.C2f                   [192, 128, 1]                 \n",
            " 19                  -1  1    147712  ultralytics.nn.modules.Conv                  [128, 128, 3, 2]              \n",
            " 20             [-1, 9]  1         0  ultralytics.nn.modules.Concat                [1]                           \n",
            " 21                  -1  1    493056  ultralytics.nn.modules.C2f                   [384, 256, 1]                 \n",
            " 22        [15, 18, 21]  1    751507  ultralytics.nn.modules.Detect                [1, [64, 128, 256]]           \n",
            "Model summary: 225 layers, 3011043 parameters, 3011027 gradients, 8.2 GFLOPs\n",
            "\n",
            "Transferred 355/355 items from pretrained weights\n",
            "\u001b[34m\u001b[1mTensorBoard: \u001b[0mStart with 'tensorboard --logdir runs/detect/train3', view at http://localhost:6006/\n",
            "\u001b[34m\u001b[1mAMP: \u001b[0mrunning Automatic Mixed Precision (AMP) checks with YOLOv8n...\n",
            "\u001b[34m\u001b[1mAMP: \u001b[0mchecks passed ✅\n",
            "\u001b[34m\u001b[1moptimizer:\u001b[0m AdamW(lr=0.01) with parameter groups 57 weight(decay=0.0), 64 weight(decay=0.000625), 63 bias\n",
            "\u001b[34m\u001b[1mtrain: \u001b[0mScanning /content/data/train/labels.cache... 82085 images, 1706 backgrounds, 0 corrupt: 100%|██████████| 83791/83791 [00:00<?, ?it/s]\n",
            "\u001b[34m\u001b[1malbumentations: \u001b[0mBlur(p=0.01, blur_limit=(3, 7)), MedianBlur(p=0.01, blur_limit=(3, 7)), ToGray(p=0.01), CLAHE(p=0.01, clip_limit=(1, 4.0), tile_grid_size=(8, 8))\n",
            "\u001b[34m\u001b[1mval: \u001b[0mScanning /content/data/valid/labels.cache... 28074 images, 95 backgrounds, 0 corrupt: 100%|██████████| 28169/28169 [00:00<?, ?it/s]\n",
            "Plotting labels to runs/detect/train3/labels.jpg... \n",
            "Image sizes 640 train, 640 val\n",
            "Using 4 dataloader workers\n",
            "Logging results to \u001b[1mruns/detect/train3\u001b[0m\n",
            "Starting training for 7 epochs...\n",
            "\n",
            "      Epoch    GPU_mem   box_loss   cls_loss   dfl_loss  Instances       Size\n",
            "        1/7        13G     0.6365     0.3201     0.8542        395        640: 100%|██████████| 1048/1048 [30:49<00:00,  1.76s/it]\n",
            "                 Class     Images  Instances      Box(P          R      mAP50  mAP50-95): 100%|██████████| 177/177 [04:32<00:00,  1.54s/it]\n",
            "                   all      28169     337504      0.795      0.663      0.746      0.566\n",
            "\n",
            "      Epoch    GPU_mem   box_loss   cls_loss   dfl_loss  Instances       Size\n",
            "        2/7      12.8G     0.6443     0.3253     0.8562        394        640: 100%|██████████| 1048/1048 [30:32<00:00,  1.75s/it]\n",
            "                 Class     Images  Instances      Box(P          R      mAP50  mAP50-95): 100%|██████████| 177/177 [04:32<00:00,  1.54s/it]\n",
            "                   all      28169     337504       0.77      0.708      0.769      0.588\n",
            "\n",
            "      Epoch    GPU_mem   box_loss   cls_loss   dfl_loss  Instances       Size\n",
            "        3/7      13.5G     0.6469     0.3266     0.8565        396        640: 100%|██████████| 1048/1048 [30:15<00:00,  1.73s/it]\n",
            "                 Class     Images  Instances      Box(P          R      mAP50  mAP50-95): 100%|██████████| 177/177 [04:21<00:00,  1.48s/it]\n",
            "                   all      28169     337504      0.783      0.693      0.774      0.593\n",
            "\n",
            "      Epoch    GPU_mem   box_loss   cls_loss   dfl_loss  Instances       Size\n",
            "        4/7      13.5G     0.6421     0.3219     0.8554        316        640: 100%|██████████| 1048/1048 [29:55<00:00,  1.71s/it]\n",
            "                 Class     Images  Instances      Box(P          R      mAP50  mAP50-95): 100%|██████████| 177/177 [04:27<00:00,  1.51s/it]\n",
            "                   all      28169     337504      0.783      0.695       0.77      0.596\n",
            "\n",
            "      Epoch    GPU_mem   box_loss   cls_loss   dfl_loss  Instances       Size\n",
            "        5/7      12.5G     0.6389     0.3207     0.8549        325        640: 100%|██████████| 1048/1048 [30:09<00:00,  1.73s/it]\n",
            "                 Class     Images  Instances      Box(P          R      mAP50  mAP50-95): 100%|██████████| 177/177 [04:26<00:00,  1.50s/it]\n",
            "                   all      28169     337504      0.801      0.694      0.777      0.602\n",
            "\n",
            "      Epoch    GPU_mem   box_loss   cls_loss   dfl_loss  Instances       Size\n",
            "        6/7        13G     0.6289      0.312     0.8524        485        640: 100%|██████████| 1048/1048 [30:21<00:00,  1.74s/it]\n",
            "                 Class     Images  Instances      Box(P          R      mAP50  mAP50-95): 100%|██████████| 177/177 [04:25<00:00,  1.50s/it]\n",
            "                   all      28169     337504      0.791      0.688      0.777      0.602\n",
            "\n",
            "      Epoch    GPU_mem   box_loss   cls_loss   dfl_loss  Instances       Size\n",
            "        7/7      12.1G     0.6179     0.3029     0.8496        423        640: 100%|██████████| 1048/1048 [30:21<00:00,  1.74s/it]\n",
            "                 Class     Images  Instances      Box(P          R      mAP50  mAP50-95): 100%|██████████| 177/177 [05:42<00:00,  1.94s/it]\n",
            "                   all      28169     337504      0.791       0.69      0.775      0.603\n",
            "\n",
            "7 epochs completed in 4.095 hours.\n",
            "Optimizer stripped from runs/detect/train3/weights/last.pt, 6.2MB\n",
            "Optimizer stripped from runs/detect/train3/weights/best.pt, 6.2MB\n",
            "\n",
            "Validating runs/detect/train3/weights/best.pt...\n",
            "Ultralytics YOLOv8.0.91 🚀 Python-3.10.11 torch-2.0.0+cu118 CUDA:0 (Tesla T4, 15102MiB)\n",
            "Model summary (fused): 168 layers, 3005843 parameters, 0 gradients, 8.1 GFLOPs\n",
            "                 Class     Images  Instances      Box(P          R      mAP50  mAP50-95): 100%|██████████| 177/177 [05:24<00:00,  1.83s/it]\n",
            "                   all      28169     337504      0.791       0.69      0.775      0.603\n",
            "Speed: 0.1ms preprocess, 1.2ms inference, 0.0ms loss, 1.2ms postprocess per image\n",
            "Results saved to \u001b[1mruns/detect/train3\u001b[0m\n"
          ]
        }
      ],
      "source": [
        "model = YOLO(\"/content/drive/MyDrive/Weights/nano 3 - 18/runs/detect/train3/weights/last.pt\")  # load a pretrained YOLOv8n model\n",
        " \n",
        "model.train(task=\"detect\", data=\"/content/data/data.yaml\", epochs=7, imgsz=640, batch=80, single_cls=True, optimizer='AdamW')  # train the model\n"
      ]
    },
    {
      "cell_type": "markdown",
      "source": [
        "### YOLOv8s Training\n"
      ],
      "metadata": {
        "id": "b92xzr5qEWje"
      }
    },
    {
      "cell_type": "code",
      "source": [
        "%cd /content/drive/MyDrive/Weights"
      ],
      "metadata": {
        "colab": {
          "base_uri": "https://localhost:8080/"
        },
        "id": "ZaeV8-DuuSiJ",
        "outputId": "22e10ea4-5e69-4e25-974f-76a2aef8ea4e"
      },
      "execution_count": null,
      "outputs": [
        {
          "output_type": "stream",
          "name": "stdout",
          "text": [
            "/content/drive/MyDrive/Weights\n"
          ]
        }
      ]
    },
    {
      "cell_type": "code",
      "source": [
        "%mkdir small"
      ],
      "metadata": {
        "id": "tKruN-_cpMqA"
      },
      "execution_count": null,
      "outputs": []
    },
    {
      "cell_type": "code",
      "source": [
        "%cd /content/drive/MyDrive/Weights/small"
      ],
      "metadata": {
        "colab": {
          "base_uri": "https://localhost:8080/"
        },
        "id": "xxd-OjUiuqCq",
        "outputId": "af1d3fbf-f8c8-45c0-9ee0-526fee46fc21"
      },
      "execution_count": null,
      "outputs": [
        {
          "output_type": "stream",
          "name": "stdout",
          "text": [
            "/content/drive/MyDrive/Weights/small\n"
          ]
        }
      ]
    },
    {
      "cell_type": "code",
      "source": [
        "%rm -rf /content/drive/MyDrive/Weights/small"
      ],
      "metadata": {
        "id": "MQ-f3x_aFibq"
      },
      "execution_count": null,
      "outputs": []
    },
    {
      "cell_type": "markdown",
      "source": [
        "Similarly train using the YOLOv8s pretrained model this will download the pretrained weights from the ultralytics(which is trained on COCO Dataset)\n"
      ],
      "metadata": {
        "id": "dROi17RqGCfT"
      }
    },
    {
      "cell_type": "code",
      "source": [
        "model = YOLO(\"yolov8s.pt\")  # load a pretrained YOLOv8s model \n",
        " \n",
        "model.train(task=\"detect\", data=\"/content/data/data.yaml\", epochs=25, imgsz=640, batch=80, single_cls=True, optimizer='AdamW')  # train the model"
      ],
      "metadata": {
        "id": "GD0BdrlVGiVe"
      },
      "execution_count": null,
      "outputs": []
    },
    {
      "cell_type": "markdown",
      "source": [
        "In this case trainig is done in two step the colab gave an error in the 15th epoch. Thus first 15 epochs then 10 epochs were trained with a total of 25 epochs. "
      ],
      "metadata": {
        "id": "ACHlvBWxGpwU"
      }
    },
    {
      "cell_type": "code",
      "source": [
        "model = YOLO(\"/content/drive/MyDrive/Weights/small/runs/detect/train7/weights/last.pt\")  # load a pretrained YOLOv8s model\n",
        " \n",
        "model.train(task=\"detect\", data=\"/content/data/data.yaml\", epochs=10, imgsz=640, batch=40, single_cls=True, optimizer='AdamW')  # train the model\n"
      ],
      "metadata": {
        "colab": {
          "base_uri": "https://localhost:8080/"
        },
        "id": "W7LwK5YauXvO",
        "outputId": "e5b161b0-124a-4f2d-9358-111ed45c2768"
      },
      "execution_count": null,
      "outputs": [
        {
          "output_type": "stream",
          "name": "stderr",
          "text": [
            "Ultralytics YOLOv8.0.91 🚀 Python-3.10.11 torch-2.0.0+cu118 CUDA:0 (Tesla T4, 15102MiB)\n",
            "\u001b[34m\u001b[1myolo/engine/trainer: \u001b[0mtask=detect, mode=train, model=/content/drive/MyDrive/Weights/small/runs/detect/train7/weights/last.pt, data=/content/data/data.yaml, epochs=10, patience=50, batch=40, imgsz=640, save=True, save_period=-1, cache=False, device=None, workers=8, project=None, name=None, exist_ok=False, pretrained=False, optimizer=AdamW, verbose=True, seed=0, deterministic=True, single_cls=True, rect=False, cos_lr=False, close_mosaic=0, resume=False, amp=True, overlap_mask=True, mask_ratio=4, dropout=0.0, val=True, split=val, save_json=False, save_hybrid=False, conf=None, iou=0.7, max_det=300, half=False, dnn=False, plots=True, source=None, show=False, save_txt=False, save_conf=False, save_crop=False, show_labels=True, show_conf=True, vid_stride=1, line_thickness=3, visualize=False, augment=False, agnostic_nms=False, classes=None, retina_masks=False, boxes=True, format=torchscript, keras=False, optimize=False, int8=False, dynamic=False, simplify=False, opset=None, workspace=4, nms=False, lr0=0.01, lrf=0.01, momentum=0.937, weight_decay=0.0005, warmup_epochs=3.0, warmup_momentum=0.8, warmup_bias_lr=0.1, box=7.5, cls=0.5, dfl=1.5, pose=12.0, kobj=1.0, label_smoothing=0.0, nbs=64, hsv_h=0.015, hsv_s=0.7, hsv_v=0.4, degrees=0.0, translate=0.1, scale=0.5, shear=0.0, perspective=0.0, flipud=0.0, fliplr=0.5, mosaic=1.0, mixup=0.0, copy_paste=0.0, cfg=None, v5loader=False, tracker=botsort.yaml, save_dir=runs/detect/train8\n",
            "Downloading https://ultralytics.com/assets/Arial.ttf to /root/.config/Ultralytics/Arial.ttf...\n",
            "100%|██████████| 755k/755k [00:00<00:00, 185MB/s]\n",
            "\n",
            "                   from  n    params  module                                       arguments                     \n",
            "  0                  -1  1       928  ultralytics.nn.modules.Conv                  [3, 32, 3, 2]                 \n",
            "  1                  -1  1     18560  ultralytics.nn.modules.Conv                  [32, 64, 3, 2]                \n",
            "  2                  -1  1     29056  ultralytics.nn.modules.C2f                   [64, 64, 1, True]             \n",
            "  3                  -1  1     73984  ultralytics.nn.modules.Conv                  [64, 128, 3, 2]               \n",
            "  4                  -1  2    197632  ultralytics.nn.modules.C2f                   [128, 128, 2, True]           \n",
            "  5                  -1  1    295424  ultralytics.nn.modules.Conv                  [128, 256, 3, 2]              \n",
            "  6                  -1  2    788480  ultralytics.nn.modules.C2f                   [256, 256, 2, True]           \n",
            "  7                  -1  1   1180672  ultralytics.nn.modules.Conv                  [256, 512, 3, 2]              \n",
            "  8                  -1  1   1838080  ultralytics.nn.modules.C2f                   [512, 512, 1, True]           \n",
            "  9                  -1  1    656896  ultralytics.nn.modules.SPPF                  [512, 512, 5]                 \n",
            " 10                  -1  1         0  torch.nn.modules.upsampling.Upsample         [None, 2, 'nearest']          \n",
            " 11             [-1, 6]  1         0  ultralytics.nn.modules.Concat                [1]                           \n",
            " 12                  -1  1    591360  ultralytics.nn.modules.C2f                   [768, 256, 1]                 \n",
            " 13                  -1  1         0  torch.nn.modules.upsampling.Upsample         [None, 2, 'nearest']          \n",
            " 14             [-1, 4]  1         0  ultralytics.nn.modules.Concat                [1]                           \n",
            " 15                  -1  1    148224  ultralytics.nn.modules.C2f                   [384, 128, 1]                 \n",
            " 16                  -1  1    147712  ultralytics.nn.modules.Conv                  [128, 128, 3, 2]              \n",
            " 17            [-1, 12]  1         0  ultralytics.nn.modules.Concat                [1]                           \n",
            " 18                  -1  1    493056  ultralytics.nn.modules.C2f                   [384, 256, 1]                 \n",
            " 19                  -1  1    590336  ultralytics.nn.modules.Conv                  [256, 256, 3, 2]              \n",
            " 20             [-1, 9]  1         0  ultralytics.nn.modules.Concat                [1]                           \n",
            " 21                  -1  1   1969152  ultralytics.nn.modules.C2f                   [768, 512, 1]                 \n",
            " 22        [15, 18, 21]  1   2116435  ultralytics.nn.modules.Detect                [1, [128, 256, 512]]          \n",
            "Model summary: 225 layers, 11135987 parameters, 11135971 gradients, 28.6 GFLOPs\n",
            "\n",
            "Transferred 355/355 items from pretrained weights\n",
            "\u001b[34m\u001b[1mTensorBoard: \u001b[0mStart with 'tensorboard --logdir runs/detect/train8', view at http://localhost:6006/\n",
            "\u001b[34m\u001b[1mAMP: \u001b[0mrunning Automatic Mixed Precision (AMP) checks with YOLOv8n...\n",
            "\u001b[34m\u001b[1mAMP: \u001b[0mchecks passed ✅\n",
            "\u001b[34m\u001b[1moptimizer:\u001b[0m AdamW(lr=0.01) with parameter groups 57 weight(decay=0.0), 64 weight(decay=0.000625), 63 bias\n",
            "\u001b[34m\u001b[1mtrain: \u001b[0mScanning /content/data/train/labels... 82085 images, 1706 backgrounds, 0 corrupt: 100%|██████████| 83791/83791 [02:39<00:00, 526.53it/s]\n",
            "\u001b[34m\u001b[1mtrain: \u001b[0mNew cache created: /content/data/train/labels.cache\n",
            "\u001b[34m\u001b[1malbumentations: \u001b[0mBlur(p=0.01, blur_limit=(3, 7)), MedianBlur(p=0.01, blur_limit=(3, 7)), ToGray(p=0.01), CLAHE(p=0.01, clip_limit=(1, 4.0), tile_grid_size=(8, 8))\n",
            "\u001b[34m\u001b[1mval: \u001b[0mScanning /content/data/valid/labels... 28074 images, 95 backgrounds, 0 corrupt: 100%|██████████| 28169/28169 [00:58<00:00, 478.37it/s]\n",
            "\u001b[34m\u001b[1mval: \u001b[0mNew cache created: /content/data/valid/labels.cache\n",
            "Plotting labels to runs/detect/train8/labels.jpg... \n",
            "Image sizes 640 train, 640 val\n",
            "Using 4 dataloader workers\n",
            "Logging results to \u001b[1mruns/detect/train8\u001b[0m\n",
            "Starting training for 10 epochs...\n",
            "\n",
            "      Epoch    GPU_mem   box_loss   cls_loss   dfl_loss  Instances       Size\n",
            "       1/10      9.69G     0.6019     0.3021     0.8514        552        640:  10%|▉         | 209/2095 [03:20<31:20,  1.00it/s]Unzipping /content/datasets/coco/images/test2017.zip to /content/datasets/coco/images...\n",
            "       1/10      9.69G     0.6018      0.301     0.8512        534        640:  68%|██████▊   | 1423/2095 [21:53<08:31,  1.31it/s]Unzipping /content/datasets/coco/images/train2017.zip to /content/datasets/coco/images...\n",
            "       1/10      9.69G     0.6042     0.3028     0.8518        481        640: 100%|██████████| 2095/2095 [32:40<00:00,  1.07it/s]\n",
            "                 Class     Images  Instances      Box(P          R      mAP50  mAP50-95): 100%|██████████| 353/353 [04:37<00:00,  1.27it/s]\n",
            "                   all      28169     337504      0.788      0.685      0.773        0.6\n",
            "\n",
            "      Epoch    GPU_mem   box_loss   cls_loss   dfl_loss  Instances       Size\n",
            "       2/10      9.73G     0.6193     0.3137     0.8572        362        640: 100%|██████████| 2095/2095 [30:07<00:00,  1.16it/s]\n",
            "                 Class     Images  Instances      Box(P          R      mAP50  mAP50-95): 100%|██████████| 353/353 [04:36<00:00,  1.28it/s]\n",
            "                   all      28169     337504      0.771      0.734      0.796      0.612\n",
            "\n",
            "      Epoch    GPU_mem   box_loss   cls_loss   dfl_loss  Instances       Size\n",
            "       3/10      9.89G     0.6184     0.3122     0.8566        452        640: 100%|██████████| 2095/2095 [29:49<00:00,  1.17it/s]\n",
            "                 Class     Images  Instances      Box(P          R      mAP50  mAP50-95): 100%|██████████| 353/353 [04:33<00:00,  1.29it/s]\n",
            "                   all      28169     337504      0.797      0.714      0.797      0.617\n",
            "\n",
            "      Epoch    GPU_mem   box_loss   cls_loss   dfl_loss  Instances       Size\n",
            "       4/10      9.74G     0.6034        0.3     0.8521        600        640: 100%|██████████| 2095/2095 [29:47<00:00,  1.17it/s]\n",
            "                 Class     Images  Instances      Box(P          R      mAP50  mAP50-95): 100%|██████████| 353/353 [04:35<00:00,  1.28it/s]\n",
            "                   all      28169     337504      0.779      0.723      0.796      0.614\n",
            "\n",
            "      Epoch    GPU_mem   box_loss   cls_loss   dfl_loss  Instances       Size\n",
            "       5/10      9.68G     0.5999     0.2987     0.8522        286        640: 100%|██████████| 2095/2095 [29:53<00:00,  1.17it/s]\n",
            "                 Class     Images  Instances      Box(P          R      mAP50  mAP50-95): 100%|██████████| 353/353 [04:35<00:00,  1.28it/s]\n",
            "                   all      28169     337504       0.78      0.721      0.794      0.616\n",
            "\n",
            "      Epoch    GPU_mem   box_loss   cls_loss   dfl_loss  Instances       Size\n",
            "       6/10      9.85G     0.5911     0.2917     0.8497        364        640: 100%|██████████| 2095/2095 [29:38<00:00,  1.18it/s]\n",
            "                 Class     Images  Instances      Box(P          R      mAP50  mAP50-95): 100%|██████████| 353/353 [04:33<00:00,  1.29it/s]\n",
            "                   all      28169     337504      0.783      0.721      0.795      0.617\n",
            "\n",
            "      Epoch    GPU_mem   box_loss   cls_loss   dfl_loss  Instances       Size\n",
            "       7/10      9.67G     0.5812     0.2849     0.8469        331        640: 100%|██████████| 2095/2095 [29:30<00:00,  1.18it/s]\n",
            "                 Class     Images  Instances      Box(P          R      mAP50  mAP50-95): 100%|██████████| 353/353 [04:30<00:00,  1.31it/s]\n",
            "                   all      28169     337504      0.781      0.742      0.806      0.624\n",
            "\n",
            "      Epoch    GPU_mem   box_loss   cls_loss   dfl_loss  Instances       Size\n",
            "       8/10      9.68G     0.5725      0.278     0.8446        420        640: 100%|██████████| 2095/2095 [29:30<00:00,  1.18it/s]\n",
            "                 Class     Images  Instances      Box(P          R      mAP50  mAP50-95): 100%|██████████| 353/353 [04:36<00:00,  1.28it/s]\n",
            "                   all      28169     337504      0.785      0.728      0.801      0.622\n",
            "\n",
            "      Epoch    GPU_mem   box_loss   cls_loss   dfl_loss  Instances       Size\n",
            "       9/10      9.73G     0.5621     0.2708     0.8422        383        640: 100%|██████████| 2095/2095 [29:15<00:00,  1.19it/s]\n",
            "                 Class     Images  Instances      Box(P          R      mAP50  mAP50-95): 100%|██████████| 353/353 [04:36<00:00,  1.28it/s]\n",
            "                   all      28169     337504      0.781      0.727      0.797       0.62\n",
            "\n",
            "      Epoch    GPU_mem   box_loss   cls_loss   dfl_loss  Instances       Size\n",
            "      10/10      9.75G      0.553      0.264     0.8404        409        640: 100%|██████████| 2095/2095 [29:37<00:00,  1.18it/s]\n",
            "                 Class     Images  Instances      Box(P          R      mAP50  mAP50-95): 100%|██████████| 353/353 [05:43<00:00,  1.03it/s]\n",
            "                   all      28169     337504      0.781      0.729      0.798       0.62\n",
            "\n",
            "10 epochs completed in 5.790 hours.\n",
            "Optimizer stripped from runs/detect/train8/weights/last.pt, 22.5MB\n",
            "Optimizer stripped from runs/detect/train8/weights/best.pt, 22.5MB\n",
            "\n",
            "Validating runs/detect/train8/weights/best.pt...\n",
            "Ultralytics YOLOv8.0.91 🚀 Python-3.10.11 torch-2.0.0+cu118 CUDA:0 (Tesla T4, 15102MiB)\n",
            "Model summary (fused): 168 layers, 11125971 parameters, 0 gradients, 28.4 GFLOPs\n",
            "                 Class     Images  Instances      Box(P          R      mAP50  mAP50-95): 100%|██████████| 353/353 [05:27<00:00,  1.08it/s]\n",
            "                   all      28169     337504      0.781      0.742      0.806      0.624\n",
            "Speed: 0.1ms preprocess, 2.4ms inference, 0.0ms loss, 1.0ms postprocess per image\n",
            "Results saved to \u001b[1mruns/detect/train8\u001b[0m\n"
          ]
        }
      ]
    },
    {
      "cell_type": "markdown",
      "source": [
        "## Valication of model\n"
      ],
      "metadata": {
        "id": "Cdtl6527I_yk"
      }
    },
    {
      "cell_type": "markdown",
      "source": [
        "### YOLOv8n validation"
      ],
      "metadata": {
        "id": "Q2dATX-0JNnr"
      }
    },
    {
      "cell_type": "markdown",
      "source": [
        "Download the trained models from myRepo\n"
      ],
      "metadata": {
        "id": "teLSibpOdQxm"
      }
    },
    {
      "cell_type": "code",
      "source": [
        "!git clone https://github.com/munir-fati-haji/Thesis-Multiple-Object-Tracking"
      ],
      "metadata": {
        "colab": {
          "base_uri": "https://localhost:8080/"
        },
        "id": "LncD57bXTx_r",
        "outputId": "5f516dd9-9d0f-4c93-b9bc-c3485c9356d7"
      },
      "execution_count": null,
      "outputs": [
        {
          "output_type": "stream",
          "name": "stdout",
          "text": [
            "Cloning into 'Thesis-Multiple-Object-Tracking'...\n",
            "remote: Enumerating objects: 54668, done.\u001b[K\n",
            "remote: Counting objects: 100% (19/19), done.\u001b[K\n",
            "remote: Compressing objects: 100% (15/15), done.\u001b[K\n",
            "remote: Total 54668 (delta 1), reused 19 (delta 1), pack-reused 54649\u001b[K\n",
            "Receiving objects: 100% (54668/54668), 52.55 MiB | 1.72 MiB/s, done.\n",
            "Resolving deltas: 100% (2719/2719), done.\n",
            "Updating files: 100% (56347/56347), done.\n"
          ]
        }
      ]
    },
    {
      "cell_type": "code",
      "execution_count": 15,
      "metadata": {
        "colab": {
          "base_uri": "https://localhost:8080/"
        },
        "id": "dCB2jMSUJKs5",
        "outputId": "272e3906-c9a4-4b98-d84e-d865b5437866"
      },
      "outputs": [
        {
          "output_type": "stream",
          "name": "stderr",
          "text": [
            "Ultralytics YOLOv8.0.97 🚀 Python-3.10.11 torch-2.0.0+cu118 CUDA:0 (Tesla T4, 15102MiB)\n",
            "Model summary (fused): 168 layers, 3005843 parameters, 0 gradients, 8.1 GFLOPs\n",
            "Downloading https://ultralytics.com/assets/Arial.ttf to /root/.config/Ultralytics/Arial.ttf...\n",
            "100%|██████████| 755k/755k [00:00<00:00, 14.0MB/s]\n",
            "\u001b[34m\u001b[1mval: \u001b[0mScanning /content/data/valid/labels... 28074 images, 95 backgrounds, 0 corrupt: 100%|██████████| 28169/28169 [00:30<00:00, 909.78it/s]\n",
            "\u001b[34m\u001b[1mval: \u001b[0mNew cache created: /content/data/valid/labels.cache\n",
            "                 Class     Images  Instances      Box(P          R      mAP50  mAP50-95): 100%|██████████| 1761/1761 [05:03<00:00,  5.81it/s]\n",
            "                   all      28169     337504      0.791       0.69      0.775      0.604\n",
            "Speed: 0.1ms preprocess, 2.2ms inference, 0.0ms loss, 1.0ms postprocess per image\n",
            "Results saved to \u001b[1mruns/detect/val\u001b[0m\n"
          ]
        }
      ],
      "source": [
        "model = YOLO('/content/Thesis-Multiple-Object-Tracking/data/weights/nano/best.pt')\n",
        "metrics = model.val()"
      ]
    },
    {
      "cell_type": "code",
      "source": [
        "print(metrics.box.map,    # map50-95\n",
        "      metrics.box.map50,  # map50\n",
        "      metrics.box.map75,  # map75\n",
        "      metrics.box.maps )  # a list contains map50-95 of each category"
      ],
      "metadata": {
        "colab": {
          "base_uri": "https://localhost:8080/"
        },
        "id": "KvQDkZWnRZxI",
        "outputId": "b211bee9-d844-41bd-ae2c-e79762df43a5"
      },
      "execution_count": 24,
      "outputs": [
        {
          "output_type": "stream",
          "name": "stdout",
          "text": [
            "0.6036356126153782 0.7750096212081529 0.7095277061781039 [    0.60364]\n"
          ]
        }
      ]
    },
    {
      "cell_type": "markdown",
      "source": [
        "### YOLOv8s validation"
      ],
      "metadata": {
        "id": "TamM0lLUJU3t"
      }
    },
    {
      "cell_type": "code",
      "execution_count": 25,
      "metadata": {
        "colab": {
          "base_uri": "https://localhost:8080/"
        },
        "id": "nFMz9ZBYcF3R",
        "outputId": "d653e312-6bf2-4c96-ff06-9a6fd68e1c58"
      },
      "outputs": [
        {
          "output_type": "stream",
          "name": "stderr",
          "text": [
            "Ultralytics YOLOv8.0.97 🚀 Python-3.10.11 torch-2.0.0+cu118 CUDA:0 (Tesla T4, 15102MiB)\n",
            "Model summary (fused): 168 layers, 11125971 parameters, 0 gradients, 28.4 GFLOPs\n",
            "\u001b[34m\u001b[1mval: \u001b[0mScanning /content/data/valid/labels.cache... 28074 images, 95 backgrounds, 0 corrupt: 100%|██████████| 28169/28169 [00:00<?, ?it/s]\n",
            "                 Class     Images  Instances      Box(P          R      mAP50  mAP50-95): 100%|██████████| 1761/1761 [06:08<00:00,  4.78it/s]\n",
            "                   all      28169     337504      0.781      0.742      0.806      0.625\n",
            "Speed: 0.1ms preprocess, 5.0ms inference, 0.0ms loss, 1.1ms postprocess per image\n",
            "Results saved to \u001b[1mruns/detect/val0002\u001b[0m\n"
          ]
        }
      ],
      "source": [
        "model = YOLO('/content/Thesis-Multiple-Object-Tracking/data/weights/small/best.pt')\n",
        "metrics = model.val()"
      ]
    },
    {
      "cell_type": "code",
      "source": [
        "print(metrics.box.map,    # map50-95\n",
        "metrics.box.map50,        # map50\n",
        "metrics.box.map75,        # map75\n",
        "metrics.box.maps)         # a list contains map50-95 of each category"
      ],
      "metadata": {
        "colab": {
          "base_uri": "https://localhost:8080/"
        },
        "id": "lpjev_IuRq6-",
        "outputId": "9d9e3701-e67b-475d-b43e-79a89e8f3cb4"
      },
      "execution_count": 26,
      "outputs": [
        {
          "output_type": "stream",
          "name": "stdout",
          "text": [
            "0.6247253853546255 0.805912847572189 0.740221453376654 [    0.62473]\n"
          ]
        }
      ]
    },
    {
      "cell_type": "markdown",
      "source": [
        "# Predict"
      ],
      "metadata": {
        "id": "fLgGgbHve_sb"
      }
    },
    {
      "cell_type": "code",
      "source": [
        "# predict the model using specified path\n",
        "path = ''\n",
        "model.predict( source=path , conf = 0.5 , save=True)"
      ],
      "metadata": {
        "id": "ypL1SNvQfCz9"
      },
      "execution_count": null,
      "outputs": []
    }
  ],
  "metadata": {
    "accelerator": "GPU",
    "colab": {
      "machine_shape": "hm",
      "provenance": [],
      "gpuType": "T4"
    },
    "gpuClass": "standard",
    "kernelspec": {
      "display_name": "Python 3",
      "name": "python3"
    },
    "language_info": {
      "name": "python"
    }
  },
  "nbformat": 4,
  "nbformat_minor": 0
}