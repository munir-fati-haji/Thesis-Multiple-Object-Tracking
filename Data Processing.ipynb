{
  "cells": [
    {
      "cell_type": "markdown",
      "metadata": {
        "id": "XHEMefpDZVgt"
      },
      "source": [
        "Connect google drive\n",
        "\n"
      ]
    },
    {
      "cell_type": "code",
      "execution_count": null,
      "metadata": {
        "colab": {
          "base_uri": "https://localhost:8080/"
        },
        "id": "4iBbHHAzZUEw",
        "outputId": "2fb16afa-ced3-491f-b8f0-c0141c93d879"
      },
      "outputs": [
        {
          "output_type": "stream",
          "name": "stdout",
          "text": [
            "Drive already mounted at /content/drive; to attempt to forcibly remount, call drive.mount(\"/content/drive\", force_remount=True).\n"
          ]
        }
      ],
      "source": [
        "from google.colab import drive\n",
        "drive.mount(\"/content/drive\")"
      ]
    },
    {
      "cell_type": "markdown",
      "metadata": {
        "id": "awNWSwE3h2bj"
      },
      "source": [
        "For clearing outputs import clear and for displaying images import Image"
      ]
    },
    {
      "cell_type": "code",
      "execution_count": null,
      "metadata": {
        "id": "rvy3df9thS7p"
      },
      "outputs": [],
      "source": [
        "from google.colab.output import clear\n",
        "from IPython.display import Image"
      ]
    },
    {
      "cell_type": "markdown",
      "metadata": {
        "id": "yRUgYgXXV_QP"
      },
      "source": [
        "# Data Processing"
      ]
    },
    {
      "cell_type": "markdown",
      "metadata": {
        "id": "9fJOBKapWQmv"
      },
      "source": [
        "## Downloading and Extracting"
      ]
    },
    {
      "cell_type": "markdown",
      "metadata": {
        "id": "iKRhG-m4W3OW"
      },
      "source": [
        "Downloading the dataset"
      ]
    },
    {
      "cell_type": "code",
      "execution_count": null,
      "metadata": {
        "colab": {
          "base_uri": "https://localhost:8080/"
        },
        "id": "TFB0YOrcVyA4",
        "outputId": "c24840b8-d7d0-47c7-9da8-8579d1962dd2"
      },
      "outputs": [
        {
          "name": "stdout",
          "output_type": "stream",
          "text": [
            "--2023-05-01 16:49:59--  http://detrac-db.rit.albany.edu/Data/DETRAC-train-data.zip\n",
            "Resolving detrac-db.rit.albany.edu (detrac-db.rit.albany.edu)... 169.226.48.9\n",
            "Connecting to detrac-db.rit.albany.edu (detrac-db.rit.albany.edu)|169.226.48.9|:80... connected.\n",
            "HTTP request sent, awaiting response... 302 Found\n",
            "Location: https://detrac-db.rit.albany.edu:443/Data/DETRAC-train-data.zip [following]\n",
            "--2023-05-01 16:49:59--  https://detrac-db.rit.albany.edu/Data/DETRAC-train-data.zip\n",
            "Connecting to detrac-db.rit.albany.edu (detrac-db.rit.albany.edu)|169.226.48.9|:443... connected.\n",
            "HTTP request sent, awaiting response... 200 OK\n",
            "Length: 5614357445 (5.2G) [application/zip]\n",
            "Saving to: ‘DETRAC-train-data.zip’\n",
            "\n",
            "DETRAC-train-data.z 100%[===================>]   5.23G   132MB/s    in 30s     \n",
            "\n",
            "2023-05-01 16:50:29 (179 MB/s) - ‘DETRAC-train-data.zip’ saved [5614357445/5614357445]\n",
            "\n",
            "--2023-05-01 16:50:29--  http://detrac-db.rit.albany.edu/Data/DETRAC-test-data.zip\n",
            "Resolving detrac-db.rit.albany.edu (detrac-db.rit.albany.edu)... 169.226.48.9\n",
            "Connecting to detrac-db.rit.albany.edu (detrac-db.rit.albany.edu)|169.226.48.9|:80... connected.\n",
            "HTTP request sent, awaiting response... 302 Found\n",
            "Location: https://detrac-db.rit.albany.edu:443/Data/DETRAC-test-data.zip [following]\n",
            "--2023-05-01 16:50:29--  https://detrac-db.rit.albany.edu/Data/DETRAC-test-data.zip\n",
            "Connecting to detrac-db.rit.albany.edu (detrac-db.rit.albany.edu)|169.226.48.9|:443... connected.\n",
            "HTTP request sent, awaiting response... 200 OK\n",
            "Length: 4238614575 (3.9G) [application/zip]\n",
            "Saving to: ‘DETRAC-test-data.zip’\n",
            "\n",
            "DETRAC-test-data.zi 100%[===================>]   3.95G   199MB/s    in 21s     \n",
            "\n",
            "2023-05-01 16:50:50 (192 MB/s) - ‘DETRAC-test-data.zip’ saved [4238614575/4238614575]\n",
            "\n",
            "--2023-05-01 16:50:50--  http://detrac-db.rit.albany.edu/Data/DETRAC-Train-Annotations-XML.zip\n",
            "Resolving detrac-db.rit.albany.edu (detrac-db.rit.albany.edu)... 169.226.48.9\n",
            "Connecting to detrac-db.rit.albany.edu (detrac-db.rit.albany.edu)|169.226.48.9|:80... connected.\n",
            "HTTP request sent, awaiting response... 302 Found\n",
            "Location: https://detrac-db.rit.albany.edu:443/Data/DETRAC-Train-Annotations-XML.zip [following]\n",
            "--2023-05-01 16:50:50--  https://detrac-db.rit.albany.edu/Data/DETRAC-Train-Annotations-XML.zip\n",
            "Connecting to detrac-db.rit.albany.edu (detrac-db.rit.albany.edu)|169.226.48.9|:443... connected.\n",
            "HTTP request sent, awaiting response... 200 OK\n",
            "Length: 13762561 (13M) [application/zip]\n",
            "Saving to: ‘DETRAC-Train-Annotations-XML.zip’\n",
            "\n",
            "DETRAC-Train-Annota 100%[===================>]  13.12M  --.-KB/s    in 0.1s    \n",
            "\n",
            "2023-05-01 16:50:50 (102 MB/s) - ‘DETRAC-Train-Annotations-XML.zip’ saved [13762561/13762561]\n",
            "\n",
            "--2023-05-01 16:50:50--  http://detrac-db.rit.albany.edu/Data/DETRAC-Test-Annotations-XML.zip\n",
            "Resolving detrac-db.rit.albany.edu (detrac-db.rit.albany.edu)... 169.226.48.9\n",
            "Connecting to detrac-db.rit.albany.edu (detrac-db.rit.albany.edu)|169.226.48.9|:80... connected.\n",
            "HTTP request sent, awaiting response... 302 Found\n",
            "Location: https://detrac-db.rit.albany.edu:443/Data/DETRAC-Test-Annotations-XML.zip [following]\n",
            "--2023-05-01 16:50:50--  https://detrac-db.rit.albany.edu/Data/DETRAC-Test-Annotations-XML.zip\n",
            "Connecting to detrac-db.rit.albany.edu (detrac-db.rit.albany.edu)|169.226.48.9|:443... connected.\n",
            "HTTP request sent, awaiting response... 200 OK\n",
            "Length: 12239887 (12M) [application/zip]\n",
            "Saving to: ‘DETRAC-Test-Annotations-XML.zip’\n",
            "\n",
            "DETRAC-Test-Annotat 100%[===================>]  11.67M  63.3MB/s    in 0.2s    \n",
            "\n",
            "2023-05-01 16:50:51 (63.3 MB/s) - ‘DETRAC-Test-Annotations-XML.zip’ saved [12239887/12239887]\n",
            "\n"
          ]
        }
      ],
      "source": [
        "!wget http://detrac-db.rit.albany.edu/Data/DETRAC-train-data.zip\n",
        "!wget http://detrac-db.rit.albany.edu/Data/DETRAC-test-data.zip\n",
        "!wget http://detrac-db.rit.albany.edu/Data/DETRAC-Train-Annotations-XML.zip\n",
        "!wget http://detrac-db.rit.albany.edu/Data/DETRAC-Test-Annotations-XML.zip\n",
        "clear()"
      ]
    },
    {
      "cell_type": "markdown",
      "metadata": {
        "id": "jrgvo39xXEZz"
      },
      "source": [
        "Create folder for extracting the dataset"
      ]
    },
    {
      "cell_type": "code",
      "execution_count": null,
      "metadata": {
        "id": "ZNJzIoSlXC02"
      },
      "outputs": [],
      "source": [
        "!mkdir data/"
      ]
    },
    {
      "cell_type": "markdown",
      "metadata": {
        "id": "a4tP7cqHXVlv"
      },
      "source": [
        "Unzip downloaded files"
      ]
    },
    {
      "cell_type": "code",
      "execution_count": null,
      "metadata": {
        "id": "nyMZgTszXP93"
      },
      "outputs": [],
      "source": [
        "!unzip -q DETRAC-train-data.zip -d data/\n",
        "!unzip -q DETRAC-test-data.zip -d data/\n",
        "!unzip -q DETRAC-Train-Annotations-XML.zip -d data/\n",
        "!unzip -q DETRAC-Test-Annotations-XML.zip -d data/"
      ]
    },
    {
      "cell_type": "markdown",
      "metadata": {
        "id": "Tu507s4VXeYW"
      },
      "source": [
        "Remove zip files after extacting zip is done"
      ]
    },
    {
      "cell_type": "code",
      "execution_count": null,
      "metadata": {
        "id": "3EBpl6iqXc3c"
      },
      "outputs": [],
      "source": [
        "!rm -r *.zip"
      ]
    },
    {
      "cell_type": "markdown",
      "metadata": {
        "id": "L5ApiCRUWYDe"
      },
      "source": [
        "## Processing Data"
      ]
    },
    {
      "cell_type": "markdown",
      "metadata": {
        "id": "fYclf2haXtt5"
      },
      "source": [
        "Copy the file to process our data so that it can have a structure that is required by YOLOv8"
      ]
    },
    {
      "cell_type": "code",
      "execution_count": null,
      "metadata": {
        "id": "Mg5JiFtbdbDP"
      },
      "outputs": [],
      "source": [
        "!cp /content/drive/MyDrive/DETRAC/process.py ./data"
      ]
    },
    {
      "cell_type": "markdown",
      "metadata": {
        "id": "xTumEFdRaeMs"
      },
      "source": [
        "Process the Files so that it will be compatible with the YOLOv8"
      ]
    },
    {
      "cell_type": "code",
      "execution_count": null,
      "metadata": {
        "colab": {
          "base_uri": "https://localhost:8080/"
        },
        "id": "NXKJuTRskBHs",
        "outputId": "d9a69414-0ecb-469e-bca9-968507a58590"
      },
      "outputs": [
        {
          "name": "stdout",
          "output_type": "stream",
          "text": [
            "/content/data\n"
          ]
        }
      ],
      "source": [
        "%cd /content/data"
      ]
    },
    {
      "cell_type": "code",
      "execution_count": null,
      "metadata": {
        "colab": {
          "base_uri": "https://localhost:8080/"
        },
        "id": "rrcU1fS-ep7D",
        "outputId": "ad52d0e6-b468-4e09-dd75-be0cb5b62f23"
      },
      "outputs": [
        {
          "name": "stdout",
          "output_type": "stream",
          "text": [
            "100% 60/60 [01:55<00:00,  1.92s/it]\n",
            "YOLO training set image has been generated.\n",
            "100% 40/40 [01:15<00:00,  1.88s/it]\n",
            "YOLO validation set image has been generated.\n",
            "100% 60/60 [1:14:04<00:00, 74.08s/it]\n",
            "YOLO training set label has been generated.\n",
            "100% 40/40 [35:37<00:00, 53.45s/it]\n",
            "YOLO validation set label has been generated.\n",
            "Mission accomplished.\n"
          ]
        }
      ],
      "source": [
        "!python process.py"
      ]
    },
    {
      "cell_type": "markdown",
      "metadata": {
        "id": "xcwoE2anW2qF"
      },
      "source": [
        "Now we have the training and validation split but we need the test split as well. Since the testing dataset from DETRAC is labeled we will be using half of it for validation and half for testing"
      ]
    },
    {
      "cell_type": "code",
      "execution_count": null,
      "metadata": {
        "id": "SzmcLC5_M-nE"
      },
      "outputs": [],
      "source": [
        "destImgPath = \"test/images\"\n",
        "destlabelPath = \"test/labels\""
      ]
    },
    {
      "cell_type": "code",
      "execution_count": null,
      "metadata": {
        "id": "NSH2xbaeKxo2"
      },
      "outputs": [],
      "source": [
        "!mkdir test\n",
        "!mkdir $destImgPath $destlabelPath"
      ]
    },
    {
      "cell_type": "code",
      "execution_count": null,
      "metadata": {
        "colab": {
          "base_uri": "https://localhost:8080/"
        },
        "id": "RBPFsjs6-Mgc",
        "outputId": "5712f06c-3db4-4a3f-92ac-bf3151f06e83"
      },
      "outputs": [
        {
          "name": "stderr",
          "output_type": "stream",
          "text": [
            "100%|██████████| 56340/56340 [00:22<00:00, 2465.75it/s]\n"
          ]
        }
      ],
      "source": [
        "import os\n",
        "from pathlib import Path\n",
        "from tqdm import tqdm\n",
        "import shutil\n",
        "\n",
        "imagesPath = \"valid/images/\"\n",
        "labelsPath = \"valid/labels/\"\n",
        "\n",
        "images = os.listdir(imagesPath)\n",
        "labels = os.listdir(labelsPath)\n",
        "\n",
        "numImages = len(images)\n",
        "\n",
        "# half for test and half for validation\n",
        "halfImages = numImages // 2\n",
        "count = 0\n",
        "\n",
        "for i in tqdm(images):\n",
        "  count += 1\n",
        "  if count < halfImages:\n",
        "    continue\n",
        "  name = Path(i).stem\n",
        "  textFile = name + \".txt\"\n",
        "  if name + \".txt\" in labels:\n",
        "    shutil.move(imagesPath + i, destImgPath)\n",
        "    shutil.move(labelsPath + textFile, destlabelPath)\n",
        "  else:\n",
        "    shutil.move(imagesPath + i, destImgPath)"
      ]
    },
    {
      "cell_type": "markdown",
      "metadata": {
        "id": "pck4LOw2YNAB"
      },
      "source": [
        "Compress the processed files"
      ]
    },
    {
      "cell_type": "code",
      "execution_count": null,
      "metadata": {
        "id": "I71bkwyPPX_g"
      },
      "outputs": [],
      "source": [
        "!zip -qr DETRAC.zip train/ valid/ test/"
      ]
    },
    {
      "cell_type": "markdown",
      "metadata": {
        "id": "WLIyavibYbHR"
      },
      "source": [
        "Copy the files to google drive"
      ]
    },
    {
      "cell_type": "code",
      "source": [
        "dest = '/content/drive/MyDrive/Dataset Final'"
      ],
      "metadata": {
        "id": "wvb0KPZyC1er"
      },
      "execution_count": null,
      "outputs": []
    },
    {
      "cell_type": "code",
      "execution_count": null,
      "metadata": {
        "id": "hTSQmq0XYi2o"
      },
      "outputs": [],
      "source": [
        "! cp -r '/content/data/DETRAC.zip' $dest"
      ]
    },
    {
      "cell_type": "markdown",
      "metadata": {
        "id": "wDcSq_0UYB1w"
      },
      "source": [
        "Remove unnecessary files"
      ]
    },
    {
      "cell_type": "code",
      "execution_count": null,
      "metadata": {
        "id": "IBr2BDc_YBVa"
      },
      "outputs": [],
      "source": [
        "!rm -rf DETRAC.zip \\\n",
        "DETRAC-Test-Annotations-XML/ \\\n",
        "DETRAC-Train-Annotations-XML/ \\\n",
        "Insight-MVT_Annotation_Test/ \\\n",
        "Insight-MVT_Annotation_Train/ \\\n",
        "process.py "
      ]
    }
  ],
  "metadata": {
    "accelerator": "GPU",
    "colab": {
      "machine_shape": "hm",
      "provenance": [],
      "gpuType": "T4",
      "collapsed_sections": [
        "yRUgYgXXV_QP",
        "9fJOBKapWQmv",
        "L5ApiCRUWYDe",
        "VzAb7zPDaoLY",
        "Cdtl6527I_yk"
      ]
    },
    "gpuClass": "standard",
    "kernelspec": {
      "display_name": "Python 3",
      "name": "python3"
    },
    "language_info": {
      "name": "python"
    }
  },
  "nbformat": 4,
  "nbformat_minor": 0
}